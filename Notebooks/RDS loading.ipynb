{
 "cells": [
  {
   "cell_type": "code",
   "execution_count": 1,
   "metadata": {},
   "outputs": [
    {
     "ename": "ModuleNotFoundError",
     "evalue": "No module named 'smart_open'",
     "output_type": "error",
     "traceback": [
      "\u001b[1;31m---------------------------------------------------------------------------\u001b[0m",
      "\u001b[1;31mModuleNotFoundError\u001b[0m                       Traceback (most recent call last)",
      "Cell \u001b[1;32mIn[1], line 3\u001b[0m\n\u001b[0;32m      1\u001b[0m \u001b[38;5;28;01mimport\u001b[39;00m \u001b[38;5;21;01mdatetime\u001b[39;00m\n\u001b[0;32m      2\u001b[0m \u001b[38;5;28;01mimport\u001b[39;00m \u001b[38;5;21;01mpandas\u001b[39;00m \u001b[38;5;28;01mas\u001b[39;00m \u001b[38;5;21;01mpd\u001b[39;00m\n\u001b[1;32m----> 3\u001b[0m \u001b[38;5;28;01mfrom\u001b[39;00m \u001b[38;5;21;01msmart_open\u001b[39;00m \u001b[38;5;28;01mimport\u001b[39;00m \u001b[38;5;28mopen\u001b[39m\n\u001b[0;32m      4\u001b[0m \u001b[38;5;28;01mimport\u001b[39;00m \u001b[38;5;21;01mpymysql\u001b[39;00m\u001b[38;5;21;01m.\u001b[39;00m\u001b[38;5;21;01mcursors\u001b[39;00m\n\u001b[0;32m      5\u001b[0m \u001b[38;5;28;01mimport\u001b[39;00m \u001b[38;5;21;01ms3_file_operations\u001b[39;00m \u001b[38;5;28;01mas\u001b[39;00m \u001b[38;5;21;01ms3_ops\u001b[39;00m\n",
      "\u001b[1;31mModuleNotFoundError\u001b[0m: No module named 'smart_open'"
     ]
    }
   ],
   "source": [
    "import datetime\n",
    "import pandas as pd\n",
    "from smart_open import open\n",
    "import pymysql.cursors\n",
    "import s3_file_operations as s3_ops"
   ]
  },
  {
   "cell_type": "markdown",
   "metadata": {},
   "source": [
    "We save our RDS credentials via the following variables. please note this is not a safe way to access credentials, its advisable to use environmental variables instead"
   ]
  },
  {
   "cell_type": "code",
   "execution_count": 3,
   "metadata": {},
   "outputs": [],
   "source": [
    "rds_host = \"database-1.ct0yog8ymd5e.eu-west-1.rds.amazonaws.com\" # Replace with your RDS hostname\n",
    "rds_username = \"admin\"\n",
    "rds_user_pwd = \"joyvic8085.\"  # Replace with your password\n",
    "rds_db_name = \"rick-and-morty-db\"\n",
    "bucket_name = \"de-masterclass-ogutu\""
   ]
  },
  {
   "cell_type": "markdown",
   "metadata": {},
   "source": [
    "Reading one of our Transformed Datasets from s3"
   ]
  },
  {
   "cell_type": "code",
   "execution_count": 4,
   "metadata": {},
   "outputs": [
    {
     "name": "stdout",
     "output_type": "stream",
     "text": [
      "An error occurred (NoSuchKey) when calling the GetObject operation: The specified key does not exist.\n"
     ]
    },
    {
     "ename": "AttributeError",
     "evalue": "'bool' object has no attribute 'fillna'",
     "output_type": "error",
     "traceback": [
      "\u001b[1;31m---------------------------------------------------------------------------\u001b[0m",
      "\u001b[1;31mAttributeError\u001b[0m                            Traceback (most recent call last)",
      "Cell \u001b[1;32mIn[4], line 3\u001b[0m\n\u001b[0;32m      1\u001b[0m \u001b[38;5;66;03m# Reading Character.csv file from Transformed folder in s3\u001b[39;00m\n\u001b[0;32m      2\u001b[0m latest_records \u001b[38;5;241m=\u001b[39m s3_ops\u001b[38;5;241m.\u001b[39mread_csv_from_s3(bucket_name, \u001b[38;5;124m\"\u001b[39m\u001b[38;5;124mRick&Morty/Transformed/Character.csv\u001b[39m\u001b[38;5;124m\"\u001b[39m)\n\u001b[1;32m----> 3\u001b[0m latest_records \u001b[38;5;241m=\u001b[39m latest_records\u001b[38;5;241m.\u001b[39mfillna(\u001b[38;5;124m'\u001b[39m\u001b[38;5;124mNULL\u001b[39m\u001b[38;5;124m'\u001b[39m)\n",
      "\u001b[1;31mAttributeError\u001b[0m: 'bool' object has no attribute 'fillna'"
     ]
    }
   ],
   "source": [
    "# Reading Character.csv file from Transformed folder in s3\n",
    "latest_records = s3_ops.read_csv_from_s3(bucket_name, \"Rick&Morty/Transformed/Character.csv\")\n",
    "latest_records = latest_records.fillna('NULL')"
   ]
  },
  {
   "cell_type": "code",
   "execution_count": 5,
   "metadata": {},
   "outputs": [],
   "source": [
    "# Defining our SQL create table query \n",
    "\n",
    "create_sql_script = \"\"\"\n",
    "        CREATE TABLE Character_Table (\n",
    "            id INT NOT NULL PRIMARY KEY,\n",
    "            name VARCHAR(255),\n",
    "            status VARCHAR(255),\n",
    "            species VARCHAR(255),\n",
    "            type VARCHAR(255),\n",
    "            gender VARCHAR(255),\n",
    "            origin VARCHAR(255),\n",
    "            location VARCHAR(255),\n",
    "            image VARCHAR(255),\n",
    "            episode VARCHAR(255),\n",
    "            url VARCHAR(255),\n",
    "            created VARCHAR(255)) \n",
    "        ENGINE=INNODB;\n",
    "    \"\"\""
   ]
  },
  {
   "cell_type": "markdown",
   "metadata": {},
   "source": [
    "Defining our connection to our remote database on AWS, creating our Destination Table and finally inserting the just transformed records to the database. "
   ]
  },
  {
   "cell_type": "code",
   "execution_count": 6,
   "metadata": {},
   "outputs": [
    {
     "name": "stdout",
     "output_type": "stream",
     "text": [
      "Exception:  'bool' object has no attribute 'columns'\n"
     ]
    }
   ],
   "source": [
    "try:\n",
    "    conn = pymysql.connect(host=rds_host,\n",
    "                            user=rds_username,\n",
    "                            password=rds_user_pwd,\n",
    "                            port=3306,\n",
    "                            database=rds_db_name,\n",
    "                            cursorclass=pymysql.cursors.DictCursor)\n",
    "    cursor = conn.cursor()\n",
    "\n",
    "    cursor.execute(\"DROP TABLE IF EXISTS Characters\")\n",
    "    cursor.execute(create_sql_script)\n",
    "    \n",
    "    # define the list of columns to insert data into\n",
    "    column_names = list(latest_records.columns)\n",
    "    \n",
    "    for i, row in latest_records.iterrows():\n",
    "        # create a string with the correct number of placeholders for the data\n",
    "        placeholders = ','.join(['%s']*len(column_names))\n",
    "        # create the SQL insert statement with the specified column names and placeholders\n",
    "        sql_insert = f\"INSERT INTO Characters ({','.join(column_names)}) VALUES ({placeholders});\"\n",
    "        # extract the data for the specified columns from the row\n",
    "        data = tuple(row[column] for column in column_names)\n",
    "        # execute the insert statement with the data\n",
    "        cursor.execute(sql_insert, data)\n",
    "        conn.commit()\n",
    "        \n",
    "    print(f\"finished insertion of {latest_records.shape[0]} Character records to RDS...\")\n",
    "        \n",
    "\n",
    "except Exception as e:\n",
    "    print(\"Exception: \", e)"
   ]
  }
 ],
 "metadata": {
  "kernelspec": {
   "display_name": "venv",
   "language": "python",
   "name": "python3"
  },
  "language_info": {
   "codemirror_mode": {
    "name": "ipython",
    "version": 3
   },
   "file_extension": ".py",
   "mimetype": "text/x-python",
   "name": "python",
   "nbconvert_exporter": "python",
   "pygments_lexer": "ipython3",
   "version": "3.11.4"
  }
 },
 "nbformat": 4,
 "nbformat_minor": 2
}
