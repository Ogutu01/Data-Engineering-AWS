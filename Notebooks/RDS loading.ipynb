{
 "cells": [
  {
   "cell_type": "code",
   "execution_count": 7,
   "metadata": {},
   "outputs": [],
   "source": [
    "import datetime\n",
    "import pandas as pd\n",
    "from smart_open import open\n",
    "import pymysql.cursors\n",
    "import s3_file_operations as s3_ops"
   ]
  },
  {
   "cell_type": "markdown",
   "metadata": {},
   "source": [
    "We save our RDS credentials via the following variables. please note this is not a safe way to access credentials, its advisable to use environmental variables instead"
   ]
  },
  {
   "cell_type": "code",
   "execution_count": 8,
   "metadata": {},
   "outputs": [],
   "source": [
    "rds_host = \"database-0.ct0yog8ymd5e.eu-west-1.rds.amazonaws.com\" # Replace with your RDS hostname\n",
    "rds_username = \"admin\"\n",
    "rds_user_pwd = \"joyvic8085\"  # Replace with your password\n",
    "rds_db_name = \"rick-and-morty-db\"\n",
    "bucket_name = \"de-masterclass-ogutu\""
   ]
  },
  {
   "cell_type": "markdown",
   "metadata": {},
   "source": [
    "### Reading our Transformed Datasets from s3"
   ]
  },
  {
   "cell_type": "code",
   "execution_count": 9,
   "metadata": {},
   "outputs": [
    {
     "name": "stdout",
     "output_type": "stream",
     "text": [
      "Data loaded successfully from S3\n"
     ]
    }
   ],
   "source": [
    "# Read transformed data from S3\n",
    "\n",
    "char_df = s3_ops.read_csv_from_s3(bucket_name, 'Rick&Morty/Transformed/characters.csv')\n",
    "ep_df = s3_ops.read_csv_from_s3(bucket_name, 'Rick&Morty/Transformed/episodes.csv')\n",
    "app_df = s3_ops.read_csv_from_s3(bucket_name, 'Rick&Morty/Transformed/appearances.csv')\n",
    "loc_df = s3_ops.read_csv_from_s3(bucket_name, 'Rick&Morty/Transformed/locations.csv')\n",
    "\n",
    "if char_df is None or ep_df is None or app_df is None or loc_df is None:\n",
    "    print(\"Error in loading data from S3\")\n",
    "\n",
    "print(\"Data loaded successfully from S3\")"
   ]
  },
  {
   "cell_type": "code",
   "execution_count": 10,
   "metadata": {},
   "outputs": [],
   "source": [
    "# SQL create table scripts\n",
    "create_character_table = \"\"\"\n",
    "    CREATE TABLE IF NOT EXISTS Character_Table (\n",
    "            id INT NOT NULL PRIMARY KEY,\n",
    "            name VARCHAR(255),\n",
    "            status VARCHAR(255),\n",
    "            species VARCHAR(255),\n",
    "            type VARCHAR(255),\n",
    "            gender VARCHAR(255),\n",
    "            origin_id VARCHAR(255),\n",
    "            location_id VARCHAR(255),\n",
    "            image VARCHAR(255),\n",
    "            url VARCHAR(255),\n",
    "            created TIMESTAMP\n",
    "        ) ENGINE=INNODB;\n",
    "    \"\"\"\n",
    "\n",
    "create_episode_table = \"\"\"\n",
    "    CREATE TABLE IF NOT EXISTS Episode_Table (\n",
    "            id INT NOT NULL PRIMARY KEY,\n",
    "            name VARCHAR(255),\n",
    "            air_date VARCHAR(255),\n",
    "            episode VARCHAR(255),\n",
    "            url VARCHAR(255),\n",
    "            created TIMESTAMP\n",
    "        ) ENGINE=INNODB;\n",
    "    \"\"\"\n",
    "\n",
    "create_appearance_table = \"\"\"\n",
    "    CREATE TABLE IF NOT EXISTS Appearance_Table (\n",
    "            id INT NOT NULL PRIMARY KEY,\n",
    "            episode_id INT,\n",
    "            character_id INT\n",
    "        ) ENGINE=INNODB;\n",
    "    \"\"\"\n",
    "\n",
    "create_location_table = \"\"\"\n",
    "    CREATE TABLE IF NOT EXISTS Location_Table (\n",
    "            id INT NOT NULL PRIMARY KEY,\n",
    "            name VARCHAR(255),\n",
    "            type VARCHAR(255),\n",
    "            dimension VARCHAR(255),\n",
    "            url VARCHAR(255),\n",
    "            created TIMESTAMP\n",
    "        ) ENGINE=INNODB;\n",
    "    \"\"\""
   ]
  },
  {
   "cell_type": "code",
   "execution_count": 11,
   "metadata": {},
   "outputs": [],
   "source": [
    "def insert_data(cursor, conn, df, table_name):\n",
    "    column_names = list(df.columns)\n",
    "    for i, row in df.iterrows():\n",
    "        placeholders = ','.join(['%s'] * len(column_names))\n",
    "        sql_insert = f\"INSERT INTO {table_name} ({','.join(column_names)}) VALUES ({placeholders});\"\n",
    "        data = tuple(row[column] for column in column_names)\n",
    "        cursor.execute(sql_insert, data)\n",
    "        conn.commit()"
   ]
  },
  {
   "cell_type": "markdown",
   "metadata": {},
   "source": [
    "Defining our connection to our remote database on AWS, creating our Destination Table and finally inserting the just transformed records to the database. "
   ]
  },
  {
   "cell_type": "code",
   "execution_count": 12,
   "metadata": {},
   "outputs": [
    {
     "name": "stdout",
     "output_type": "stream",
     "text": [
      "Exception:  nan can not be used with MySQL\n",
      "Data transformation and upload successful\n"
     ]
    }
   ],
   "source": [
    "try:\n",
    "    conn = pymysql.connect(host=rds_host,\n",
    "                               user=rds_username,\n",
    "                               password=rds_user_pwd,\n",
    "                               port=3306,\n",
    "                               database=rds_db_name,\n",
    "                               cursorclass=pymysql.cursors.DictCursor)\n",
    "    cursor = conn.cursor()\n",
    "\n",
    "    # Create tables\n",
    "    cursor.execute(create_character_table)\n",
    "    cursor.execute(create_episode_table)\n",
    "    cursor.execute(create_appearance_table)\n",
    "    cursor.execute(create_location_table)\n",
    "\n",
    "    # Insert data into Character_Table\n",
    "    insert_data(cursor, conn, char_df, \"Character_Table\")\n",
    "\n",
    "    # Insert data into Episode_Table\n",
    "    insert_data(cursor, conn, ep_df, \"Episode_Table\")\n",
    "\n",
    "    # Insert data into Appearance_Table\n",
    "    insert_data(cursor, conn, app_df, \"Appearance_Table\")\n",
    "\n",
    "    # Insert data into Location_Table\n",
    "    insert_data(cursor, conn, loc_df, \"Location_Table\")\n",
    "\n",
    "    print(\"Data insertion completed successfully\")\n",
    "\n",
    "except Exception as e:\n",
    "    print(\"Exception: \", e)\n",
    "\n",
    "print ('Data transformation and upload successful')"
   ]
  }
 ],
 "metadata": {
  "kernelspec": {
   "display_name": "venv",
   "language": "python",
   "name": "python3"
  },
  "language_info": {
   "codemirror_mode": {
    "name": "ipython",
    "version": 3
   },
   "file_extension": ".py",
   "mimetype": "text/x-python",
   "name": "python",
   "nbconvert_exporter": "python",
   "pygments_lexer": "ipython3",
   "version": "3.11.4"
  }
 },
 "nbformat": 4,
 "nbformat_minor": 2
}
